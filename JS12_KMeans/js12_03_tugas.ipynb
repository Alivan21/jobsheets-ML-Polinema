{
 "cells": [
  {
   "cell_type": "markdown",
   "metadata": {},
   "source": [
    "## Tugas\n",
    "\n",
    "Buatlah sebuah model KMeans dengan ketentuan,\n",
    "\n",
    "1. Gunakan data 'Mall_Customers.csv'\n",
    "2. Tentukan fitur apa yang tepat untuk melakukan clustering (minimal 2)\n",
    "3. Buatlah model KMeans dengan mempertimbangkan jumlah $k$ yang terbaik."
   ]
  }
 ],
 "metadata": {
  "language_info": {
   "name": "python"
  },
  "orig_nbformat": 4
 },
 "nbformat": 4,
 "nbformat_minor": 2
}
